{
 "cells": [
  {
   "cell_type": "code",
   "execution_count": 1,
   "id": "edf6af29",
   "metadata": {},
   "outputs": [],
   "source": [
    "import pandas as pd\n",
    "import numpy as np\n",
    "import matplotlib.pyplot as plt\n",
    "import glob"
   ]
  },
  {
   "cell_type": "code",
   "execution_count": 17,
   "id": "e7308c3c",
   "metadata": {},
   "outputs": [],
   "source": [
    "from sktime.transformations.panel.rocket import MiniRocket\n",
    "from sklearn.preprocessing import StandardScaler\n",
    "from sklearn.linear_model import LogisticRegression\n",
    "from sklearn.metrics import classification_report, accuracy_score\n",
    "from sklearn.model_selection import LeaveOneOut"
   ]
  },
  {
   "cell_type": "code",
   "execution_count": 3,
   "id": "e8077cf6",
   "metadata": {},
   "outputs": [],
   "source": [
    "file_paths = glob.glob('eeg_label/*_eeg_label.csv')\n",
    "\n",
    "data_list = []\n",
    "labels_list = []\n",
    "patient_ids = []\n",
    "\n",
    "for file_path in file_paths:\n",
    "    eeg_data = pd.read_csv(file_path)\n",
    "    patient_id = file_path.split('/')[-1]\n",
    "    \n",
    "    # Segment the data into non-overlapping 30-second windows\n",
    "    segment_size = 128 * 30\n",
    "    num_segments = len(eeg_data) // segment_size\n",
    "    \n",
    "    for i in range(num_segments):\n",
    "        start_idx = i * segment_size\n",
    "        end_idx = start_idx + segment_size\n",
    "        segment = eeg_data['EEG'].iloc[start_idx:end_idx].values\n",
    "        label = eeg_data['Label'].iloc[start_idx:end_idx].mode()[0]\n",
    "        \n",
    "        data_list.append(segment)\n",
    "        labels_list.append(label)\n",
    "        patient_ids.append(patient_id)  # Repeat patient ID for each segment\n",
    "\n",
    "# Convert lists to numpy arrays\n",
    "X = np.array(data_list)\n",
    "y = np.array(labels_list)\n",
    "patient_ids = np.array(patient_ids)"
   ]
  },
  {
   "cell_type": "code",
   "execution_count": 4,
   "id": "33006fb8",
   "metadata": {},
   "outputs": [],
   "source": [
    "X_reshaped = X.reshape(X.shape[0], 1, X.shape[1])"
   ]
  },
  {
   "cell_type": "code",
   "execution_count": 5,
   "id": "461f38b4",
   "metadata": {},
   "outputs": [
    {
     "data": {
      "text/plain": [
       "array([[[  3.8479987 ,  -0.05189488,   8.28753628, ...,  -7.48395381,\n",
       "          -3.98232519,  -9.09177062]],\n",
       "\n",
       "       [[-10.36212763,  -7.54309084,   2.06587013, ...,   8.56947209,\n",
       "          -8.95266975,   2.31421482]],\n",
       "\n",
       "       [[ -9.41317832,  -6.71875766,   5.51237151, ...,  -5.21229156,\n",
       "          15.67001155,  18.34295955]],\n",
       "\n",
       "       ...,\n",
       "\n",
       "       [[  3.69158411,  11.39198934,  -6.79861131, ...,   5.54533639,\n",
       "          -2.30382724,  -9.14454236]],\n",
       "\n",
       "       [[  2.92013452,  -0.35889896,   2.22516951, ...,  -8.10374495,\n",
       "          -0.07323493,   2.78687532]],\n",
       "\n",
       "       [[ -2.76418176,   5.35863693,  -9.3733417 , ...,  -1.09258537,\n",
       "           8.91095906,   9.99089462]]])"
      ]
     },
     "execution_count": 5,
     "metadata": {},
     "output_type": "execute_result"
    }
   ],
   "source": [
    "X_reshaped"
   ]
  },
  {
   "cell_type": "code",
   "execution_count": 6,
   "id": "73747f70",
   "metadata": {},
   "outputs": [
    {
     "data": {
      "text/plain": [
       "(1674, 1, 3840)"
      ]
     },
     "execution_count": 6,
     "metadata": {},
     "output_type": "execute_result"
    }
   ],
   "source": [
    "X_reshaped.shape"
   ]
  },
  {
   "cell_type": "code",
   "execution_count": 7,
   "id": "9cf17075",
   "metadata": {},
   "outputs": [],
   "source": [
    "# Initialize the MiniRocket transformer\n",
    "minirocket = MiniRocket(random_state=123)\n",
    "\n",
    "# Transform the entire dataset using MiniRocket\n",
    "X_transformed = minirocket.fit_transform(X_reshaped)"
   ]
  },
  {
   "cell_type": "code",
   "execution_count": 8,
   "id": "b151a924",
   "metadata": {},
   "outputs": [
    {
     "data": {
      "text/plain": [
       "(1674, 9996)"
      ]
     },
     "execution_count": 8,
     "metadata": {},
     "output_type": "execute_result"
    }
   ],
   "source": [
    "X_transformed.shape"
   ]
  },
  {
   "cell_type": "code",
   "execution_count": 9,
   "id": "ad0add1f",
   "metadata": {},
   "outputs": [],
   "source": [
    "# Scale the transformed data\n",
    "scaler = StandardScaler(with_mean=False)\n",
    "X_scaled = scaler.fit_transform(X_transformed)"
   ]
  },
  {
   "cell_type": "code",
   "execution_count": 10,
   "id": "c98bfdc4",
   "metadata": {},
   "outputs": [
    {
     "data": {
      "text/plain": [
       "(1674, 9996)"
      ]
     },
     "execution_count": 10,
     "metadata": {},
     "output_type": "execute_result"
    }
   ],
   "source": [
    "X_scaled.shape"
   ]
  },
  {
   "cell_type": "code",
   "execution_count": 12,
   "id": "ceb9bd8d",
   "metadata": {},
   "outputs": [
    {
     "ename": "KeyboardInterrupt",
     "evalue": "",
     "output_type": "error",
     "traceback": [
      "\u001b[0;31m---------------------------------------------------------------------------\u001b[0m",
      "\u001b[0;31mKeyboardInterrupt\u001b[0m                         Traceback (most recent call last)",
      "Cell \u001b[0;32mIn[12], line 18\u001b[0m\n\u001b[1;32m     15\u001b[0m y_train, y_test \u001b[38;5;241m=\u001b[39m y_subset[train_index], y_subset[test_index]\n\u001b[1;32m     17\u001b[0m classifier \u001b[38;5;241m=\u001b[39m LogisticRegression(random_state\u001b[38;5;241m=\u001b[39m\u001b[38;5;241m0\u001b[39m, solver\u001b[38;5;241m=\u001b[39m\u001b[38;5;124m'\u001b[39m\u001b[38;5;124mliblinear\u001b[39m\u001b[38;5;124m'\u001b[39m)\n\u001b[0;32m---> 18\u001b[0m classifier\u001b[38;5;241m.\u001b[39mfit(X_train, y_train)\n\u001b[1;32m     20\u001b[0m y_pred \u001b[38;5;241m=\u001b[39m classifier\u001b[38;5;241m.\u001b[39mpredict(X_test)\n\u001b[1;32m     22\u001b[0m all_preds\u001b[38;5;241m.\u001b[39mextend(y_pred)\n",
      "File \u001b[0;32m~/anaconda3/lib/python3.11/site-packages/sklearn/base.py:1151\u001b[0m, in \u001b[0;36m_fit_context.<locals>.decorator.<locals>.wrapper\u001b[0;34m(estimator, *args, **kwargs)\u001b[0m\n\u001b[1;32m   1144\u001b[0m     estimator\u001b[38;5;241m.\u001b[39m_validate_params()\n\u001b[1;32m   1146\u001b[0m \u001b[38;5;28;01mwith\u001b[39;00m config_context(\n\u001b[1;32m   1147\u001b[0m     skip_parameter_validation\u001b[38;5;241m=\u001b[39m(\n\u001b[1;32m   1148\u001b[0m         prefer_skip_nested_validation \u001b[38;5;129;01mor\u001b[39;00m global_skip_validation\n\u001b[1;32m   1149\u001b[0m     )\n\u001b[1;32m   1150\u001b[0m ):\n\u001b[0;32m-> 1151\u001b[0m     \u001b[38;5;28;01mreturn\u001b[39;00m fit_method(estimator, \u001b[38;5;241m*\u001b[39margs, \u001b[38;5;241m*\u001b[39m\u001b[38;5;241m*\u001b[39mkwargs)\n",
      "File \u001b[0;32m~/anaconda3/lib/python3.11/site-packages/sklearn/linear_model/_logistic.py:1227\u001b[0m, in \u001b[0;36mLogisticRegression.fit\u001b[0;34m(self, X, y, sample_weight)\u001b[0m\n\u001b[1;32m   1221\u001b[0m     \u001b[38;5;28;01mif\u001b[39;00m effective_n_jobs(\u001b[38;5;28mself\u001b[39m\u001b[38;5;241m.\u001b[39mn_jobs) \u001b[38;5;241m!=\u001b[39m \u001b[38;5;241m1\u001b[39m:\n\u001b[1;32m   1222\u001b[0m         warnings\u001b[38;5;241m.\u001b[39mwarn(\n\u001b[1;32m   1223\u001b[0m             \u001b[38;5;124m\"\u001b[39m\u001b[38;5;124m'\u001b[39m\u001b[38;5;124mn_jobs\u001b[39m\u001b[38;5;124m'\u001b[39m\u001b[38;5;124m > 1 does not have any effect when\u001b[39m\u001b[38;5;124m\"\u001b[39m\n\u001b[1;32m   1224\u001b[0m             \u001b[38;5;124m\"\u001b[39m\u001b[38;5;124m \u001b[39m\u001b[38;5;124m'\u001b[39m\u001b[38;5;124msolver\u001b[39m\u001b[38;5;124m'\u001b[39m\u001b[38;5;124m is set to \u001b[39m\u001b[38;5;124m'\u001b[39m\u001b[38;5;124mliblinear\u001b[39m\u001b[38;5;124m'\u001b[39m\u001b[38;5;124m. Got \u001b[39m\u001b[38;5;124m'\u001b[39m\u001b[38;5;124mn_jobs\u001b[39m\u001b[38;5;124m'\u001b[39m\u001b[38;5;124m\"\u001b[39m\n\u001b[1;32m   1225\u001b[0m             \u001b[38;5;124m\"\u001b[39m\u001b[38;5;124m = \u001b[39m\u001b[38;5;132;01m{}\u001b[39;00m\u001b[38;5;124m.\u001b[39m\u001b[38;5;124m\"\u001b[39m\u001b[38;5;241m.\u001b[39mformat(effective_n_jobs(\u001b[38;5;28mself\u001b[39m\u001b[38;5;241m.\u001b[39mn_jobs))\n\u001b[1;32m   1226\u001b[0m         )\n\u001b[0;32m-> 1227\u001b[0m     \u001b[38;5;28mself\u001b[39m\u001b[38;5;241m.\u001b[39mcoef_, \u001b[38;5;28mself\u001b[39m\u001b[38;5;241m.\u001b[39mintercept_, \u001b[38;5;28mself\u001b[39m\u001b[38;5;241m.\u001b[39mn_iter_ \u001b[38;5;241m=\u001b[39m _fit_liblinear(\n\u001b[1;32m   1228\u001b[0m         X,\n\u001b[1;32m   1229\u001b[0m         y,\n\u001b[1;32m   1230\u001b[0m         \u001b[38;5;28mself\u001b[39m\u001b[38;5;241m.\u001b[39mC,\n\u001b[1;32m   1231\u001b[0m         \u001b[38;5;28mself\u001b[39m\u001b[38;5;241m.\u001b[39mfit_intercept,\n\u001b[1;32m   1232\u001b[0m         \u001b[38;5;28mself\u001b[39m\u001b[38;5;241m.\u001b[39mintercept_scaling,\n\u001b[1;32m   1233\u001b[0m         \u001b[38;5;28mself\u001b[39m\u001b[38;5;241m.\u001b[39mclass_weight,\n\u001b[1;32m   1234\u001b[0m         \u001b[38;5;28mself\u001b[39m\u001b[38;5;241m.\u001b[39mpenalty,\n\u001b[1;32m   1235\u001b[0m         \u001b[38;5;28mself\u001b[39m\u001b[38;5;241m.\u001b[39mdual,\n\u001b[1;32m   1236\u001b[0m         \u001b[38;5;28mself\u001b[39m\u001b[38;5;241m.\u001b[39mverbose,\n\u001b[1;32m   1237\u001b[0m         \u001b[38;5;28mself\u001b[39m\u001b[38;5;241m.\u001b[39mmax_iter,\n\u001b[1;32m   1238\u001b[0m         \u001b[38;5;28mself\u001b[39m\u001b[38;5;241m.\u001b[39mtol,\n\u001b[1;32m   1239\u001b[0m         \u001b[38;5;28mself\u001b[39m\u001b[38;5;241m.\u001b[39mrandom_state,\n\u001b[1;32m   1240\u001b[0m         sample_weight\u001b[38;5;241m=\u001b[39msample_weight,\n\u001b[1;32m   1241\u001b[0m     )\n\u001b[1;32m   1242\u001b[0m     \u001b[38;5;28;01mreturn\u001b[39;00m \u001b[38;5;28mself\u001b[39m\n\u001b[1;32m   1244\u001b[0m \u001b[38;5;28;01mif\u001b[39;00m solver \u001b[38;5;129;01min\u001b[39;00m [\u001b[38;5;124m\"\u001b[39m\u001b[38;5;124msag\u001b[39m\u001b[38;5;124m\"\u001b[39m, \u001b[38;5;124m\"\u001b[39m\u001b[38;5;124msaga\u001b[39m\u001b[38;5;124m\"\u001b[39m]:\n",
      "File \u001b[0;32m~/anaconda3/lib/python3.11/site-packages/sklearn/svm/_base.py:1222\u001b[0m, in \u001b[0;36m_fit_liblinear\u001b[0;34m(X, y, C, fit_intercept, intercept_scaling, class_weight, penalty, dual, verbose, max_iter, tol, random_state, multi_class, loss, epsilon, sample_weight)\u001b[0m\n\u001b[1;32m   1219\u001b[0m sample_weight \u001b[38;5;241m=\u001b[39m _check_sample_weight(sample_weight, X, dtype\u001b[38;5;241m=\u001b[39mnp\u001b[38;5;241m.\u001b[39mfloat64)\n\u001b[1;32m   1221\u001b[0m solver_type \u001b[38;5;241m=\u001b[39m _get_liblinear_solver_type(multi_class, penalty, loss, dual)\n\u001b[0;32m-> 1222\u001b[0m raw_coef_, n_iter_ \u001b[38;5;241m=\u001b[39m liblinear\u001b[38;5;241m.\u001b[39mtrain_wrap(\n\u001b[1;32m   1223\u001b[0m     X,\n\u001b[1;32m   1224\u001b[0m     y_ind,\n\u001b[1;32m   1225\u001b[0m     sp\u001b[38;5;241m.\u001b[39misspmatrix(X),\n\u001b[1;32m   1226\u001b[0m     solver_type,\n\u001b[1;32m   1227\u001b[0m     tol,\n\u001b[1;32m   1228\u001b[0m     bias,\n\u001b[1;32m   1229\u001b[0m     C,\n\u001b[1;32m   1230\u001b[0m     class_weight_,\n\u001b[1;32m   1231\u001b[0m     max_iter,\n\u001b[1;32m   1232\u001b[0m     rnd\u001b[38;5;241m.\u001b[39mrandint(np\u001b[38;5;241m.\u001b[39miinfo(\u001b[38;5;124m\"\u001b[39m\u001b[38;5;124mi\u001b[39m\u001b[38;5;124m\"\u001b[39m)\u001b[38;5;241m.\u001b[39mmax),\n\u001b[1;32m   1233\u001b[0m     epsilon,\n\u001b[1;32m   1234\u001b[0m     sample_weight,\n\u001b[1;32m   1235\u001b[0m )\n\u001b[1;32m   1236\u001b[0m \u001b[38;5;66;03m# Regarding rnd.randint(..) in the above signature:\u001b[39;00m\n\u001b[1;32m   1237\u001b[0m \u001b[38;5;66;03m# seed for srand in range [0..INT_MAX); due to limitations in Numpy\u001b[39;00m\n\u001b[1;32m   1238\u001b[0m \u001b[38;5;66;03m# on 32-bit platforms, we can't get to the UINT_MAX limit that\u001b[39;00m\n\u001b[1;32m   1239\u001b[0m \u001b[38;5;66;03m# srand supports\u001b[39;00m\n\u001b[1;32m   1240\u001b[0m n_iter_max \u001b[38;5;241m=\u001b[39m \u001b[38;5;28mmax\u001b[39m(n_iter_)\n",
      "\u001b[0;31mKeyboardInterrupt\u001b[0m: "
     ]
    }
   ],
   "source": [
    "# Randomly select 50% of the data for quick testing\n",
    "subset_indices = np.random.choice(len(X_scaled), size=int(len(X_scaled) * 0.8), replace=False)\n",
    "\n",
    "X_subset = X_scaled[subset_indices]\n",
    "y_subset = y[subset_indices]\n",
    "patient_ids_subset = patient_ids[subset_indices]\n",
    "\n",
    "# Use the subset for LOOCV\n",
    "loo = LeaveOneOut()\n",
    "all_preds = []\n",
    "all_labels = []\n",
    "\n",
    "for train_index, test_index in loo.split(X_subset, groups=patient_ids_subset):\n",
    "    X_train, X_test = X_subset[train_index], X_subset[test_index]\n",
    "    y_train, y_test = y_subset[train_index], y_subset[test_index]\n",
    "    \n",
    "    classifier = LogisticRegression(random_state=0, solver='liblinear')\n",
    "    classifier.fit(X_train, y_train)\n",
    "\n",
    "    y_pred = classifier.predict(X_test)\n",
    "    \n",
    "    all_preds.extend(y_pred)\n",
    "    all_labels.extend(y_test)"
   ]
  },
  {
   "cell_type": "code",
   "execution_count": 18,
   "id": "588fb3b0",
   "metadata": {},
   "outputs": [
    {
     "name": "stdout",
     "output_type": "stream",
     "text": [
      "LOOCV Accuracy: 0.5686977299880526\n"
     ]
    }
   ],
   "source": [
    "# Evaluate the overall performance of model fit with 50% of the data\n",
    "report = classification_report(all_labels, all_preds, output_dict=True)\n",
    "accuracy = report['accuracy']\n",
    "print(f\"LOOCV Accuracy: {accuracy}\")"
   ]
  },
  {
   "cell_type": "code",
   "execution_count": 14,
   "id": "98d85433",
   "metadata": {},
   "outputs": [],
   "source": [
    "all_preds = []\n",
    "all_labels = []\n",
    "all_patient_ids = np.unique(patient_ids)\n",
    "\n",
    "# Loop over each patient (Leave-One-Patient-Out)\n",
    "for patient in all_patient_ids:\n",
    "    # Split the data based on patient IDs\n",
    "    X_train = X_scaled[patient_ids != patient]\n",
    "    X_test = X_scaled[patient_ids == patient]\n",
    "    y_train = y[patient_ids != patient]\n",
    "    y_test = y[patient_ids == patient]\n",
    "    \n",
    "    # Train the classifier\n",
    "    classifier = LogisticRegression(random_state=0, solver='liblinear', max_iter=1000)\n",
    "    classifier.fit(X_train, y_train)\n",
    "    \n",
    "    # Predict on the test set\n",
    "    y_pred = classifier.predict(X_test)\n",
    "    \n",
    "    # Store the results\n",
    "    all_preds.extend(y_pred)\n",
    "    all_labels.extend(y_test)"
   ]
  },
  {
   "cell_type": "code",
   "execution_count": 18,
   "id": "b914f169",
   "metadata": {},
   "outputs": [
    {
     "name": "stdout",
     "output_type": "stream",
     "text": [
      "              precision    recall  f1-score   support\n",
      "\n",
      "          AW       0.34      0.21      0.26       155\n",
      "          LA       0.37      0.25      0.30       229\n",
      "          MA       0.21      0.16      0.18       327\n",
      "          DA       0.59      0.69      0.63       777\n",
      "          RE       0.30      0.42      0.35       186\n",
      "\n",
      "    accuracy                           0.45      1674\n",
      "   macro avg       0.36      0.35      0.34      1674\n",
      "weighted avg       0.43      0.45      0.43      1674\n",
      "\n",
      "Overall Accuracy: 0.45\n"
     ]
    }
   ],
   "source": [
    "# After looping through all patients, evaluate the overall performance\n",
    "report = classification_report(all_labels, all_preds, labels=['AW', 'LA', 'MA', 'DA', 'RE'])\n",
    "accuracy = accuracy_score(all_labels, all_preds)\n",
    "\n",
    "print(report)\n",
    "print(f'Overall Accuracy: {accuracy:.2f}')"
   ]
  },
  {
   "cell_type": "code",
   "execution_count": null,
   "id": "37cd59d8",
   "metadata": {},
   "outputs": [],
   "source": []
  }
 ],
 "metadata": {
  "kernelspec": {
   "display_name": "Python 3 (ipykernel)",
   "language": "python",
   "name": "python3"
  },
  "language_info": {
   "codemirror_mode": {
    "name": "ipython",
    "version": 3
   },
   "file_extension": ".py",
   "mimetype": "text/x-python",
   "name": "python",
   "nbconvert_exporter": "python",
   "pygments_lexer": "ipython3",
   "version": "3.11.5"
  }
 },
 "nbformat": 4,
 "nbformat_minor": 5
}
